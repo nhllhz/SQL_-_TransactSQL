{
 "cells": [
  {
   "cell_type": "code",
   "execution_count": 1,
   "metadata": {
    "ExecuteTime": {
     "end_time": "2021-11-19T20:55:04.338250Z",
     "start_time": "2021-11-19T20:55:04.010612Z"
    }
   },
   "outputs": [],
   "source": [
    "import pandas as pd"
   ]
  },
  {
   "cell_type": "code",
   "execution_count": 2,
   "metadata": {
    "ExecuteTime": {
     "end_time": "2021-11-19T20:55:04.571267Z",
     "start_time": "2021-11-19T20:55:04.527303Z"
    }
   },
   "outputs": [
    {
     "data": {
      "text/html": [
       "<div>\n",
       "<style scoped>\n",
       "    .dataframe tbody tr th:only-of-type {\n",
       "        vertical-align: middle;\n",
       "    }\n",
       "\n",
       "    .dataframe tbody tr th {\n",
       "        vertical-align: top;\n",
       "    }\n",
       "\n",
       "    .dataframe thead th {\n",
       "        text-align: right;\n",
       "    }\n",
       "</style>\n",
       "<table border=\"1\" class=\"dataframe\">\n",
       "  <thead>\n",
       "    <tr style=\"text-align: right;\">\n",
       "      <th></th>\n",
       "      <th>Mes</th>\n",
       "      <th>Año</th>\n",
       "      <th>Sucursal_9 DE JULIO</th>\n",
       "      <th>Sucursal_ITUZAINGO</th>\n",
       "      <th>Sucursal_PATIO OLMOS</th>\n",
       "      <th>Sucursal_VILLA CABRERA</th>\n",
       "      <th>Ganancias</th>\n",
       "    </tr>\n",
       "  </thead>\n",
       "  <tbody>\n",
       "    <tr>\n",
       "      <th>0</th>\n",
       "      <td>1</td>\n",
       "      <td>2005</td>\n",
       "      <td>1</td>\n",
       "      <td>0</td>\n",
       "      <td>0</td>\n",
       "      <td>0</td>\n",
       "      <td>63220.90</td>\n",
       "    </tr>\n",
       "    <tr>\n",
       "      <th>1</th>\n",
       "      <td>2</td>\n",
       "      <td>2005</td>\n",
       "      <td>1</td>\n",
       "      <td>0</td>\n",
       "      <td>0</td>\n",
       "      <td>0</td>\n",
       "      <td>86684.00</td>\n",
       "    </tr>\n",
       "    <tr>\n",
       "      <th>2</th>\n",
       "      <td>3</td>\n",
       "      <td>2005</td>\n",
       "      <td>1</td>\n",
       "      <td>0</td>\n",
       "      <td>0</td>\n",
       "      <td>0</td>\n",
       "      <td>83729.02</td>\n",
       "    </tr>\n",
       "    <tr>\n",
       "      <th>3</th>\n",
       "      <td>4</td>\n",
       "      <td>2005</td>\n",
       "      <td>1</td>\n",
       "      <td>0</td>\n",
       "      <td>0</td>\n",
       "      <td>0</td>\n",
       "      <td>110671.50</td>\n",
       "    </tr>\n",
       "    <tr>\n",
       "      <th>4</th>\n",
       "      <td>5</td>\n",
       "      <td>2005</td>\n",
       "      <td>1</td>\n",
       "      <td>0</td>\n",
       "      <td>0</td>\n",
       "      <td>0</td>\n",
       "      <td>103475.77</td>\n",
       "    </tr>\n",
       "    <tr>\n",
       "      <th>...</th>\n",
       "      <td>...</td>\n",
       "      <td>...</td>\n",
       "      <td>...</td>\n",
       "      <td>...</td>\n",
       "      <td>...</td>\n",
       "      <td>...</td>\n",
       "      <td>...</td>\n",
       "    </tr>\n",
       "    <tr>\n",
       "      <th>187</th>\n",
       "      <td>8</td>\n",
       "      <td>2008</td>\n",
       "      <td>0</td>\n",
       "      <td>0</td>\n",
       "      <td>0</td>\n",
       "      <td>1</td>\n",
       "      <td>91642.52</td>\n",
       "    </tr>\n",
       "    <tr>\n",
       "      <th>188</th>\n",
       "      <td>9</td>\n",
       "      <td>2008</td>\n",
       "      <td>0</td>\n",
       "      <td>0</td>\n",
       "      <td>0</td>\n",
       "      <td>1</td>\n",
       "      <td>82501.51</td>\n",
       "    </tr>\n",
       "    <tr>\n",
       "      <th>189</th>\n",
       "      <td>10</td>\n",
       "      <td>2008</td>\n",
       "      <td>0</td>\n",
       "      <td>0</td>\n",
       "      <td>0</td>\n",
       "      <td>1</td>\n",
       "      <td>75828.41</td>\n",
       "    </tr>\n",
       "    <tr>\n",
       "      <th>190</th>\n",
       "      <td>11</td>\n",
       "      <td>2008</td>\n",
       "      <td>0</td>\n",
       "      <td>0</td>\n",
       "      <td>0</td>\n",
       "      <td>1</td>\n",
       "      <td>65309.10</td>\n",
       "    </tr>\n",
       "    <tr>\n",
       "      <th>191</th>\n",
       "      <td>12</td>\n",
       "      <td>2008</td>\n",
       "      <td>0</td>\n",
       "      <td>0</td>\n",
       "      <td>0</td>\n",
       "      <td>1</td>\n",
       "      <td>160571.10</td>\n",
       "    </tr>\n",
       "  </tbody>\n",
       "</table>\n",
       "<p>192 rows × 7 columns</p>\n",
       "</div>"
      ],
      "text/plain": [
       "     Mes   Año  Sucursal_9 DE JULIO  Sucursal_ITUZAINGO  Sucursal_PATIO OLMOS  \\\n",
       "0      1  2005                    1                   0                     0   \n",
       "1      2  2005                    1                   0                     0   \n",
       "2      3  2005                    1                   0                     0   \n",
       "3      4  2005                    1                   0                     0   \n",
       "4      5  2005                    1                   0                     0   \n",
       "..   ...   ...                  ...                 ...                   ...   \n",
       "187    8  2008                    0                   0                     0   \n",
       "188    9  2008                    0                   0                     0   \n",
       "189   10  2008                    0                   0                     0   \n",
       "190   11  2008                    0                   0                     0   \n",
       "191   12  2008                    0                   0                     0   \n",
       "\n",
       "     Sucursal_VILLA CABRERA  Ganancias  \n",
       "0                         0   63220.90  \n",
       "1                         0   86684.00  \n",
       "2                         0   83729.02  \n",
       "3                         0  110671.50  \n",
       "4                         0  103475.77  \n",
       "..                      ...        ...  \n",
       "187                       1   91642.52  \n",
       "188                       1   82501.51  \n",
       "189                       1   75828.41  \n",
       "190                       1   65309.10  \n",
       "191                       1  160571.10  \n",
       "\n",
       "[192 rows x 7 columns]"
      ]
     },
     "execution_count": 2,
     "metadata": {},
     "output_type": "execute_result"
    }
   ],
   "source": [
    "df=pd.read_csv(\"baseTP.csv\")\n",
    "df"
   ]
  },
  {
   "cell_type": "code",
   "execution_count": 3,
   "metadata": {
    "ExecuteTime": {
     "end_time": "2021-11-19T20:55:05.260753Z",
     "start_time": "2021-11-19T20:55:05.242245Z"
    }
   },
   "outputs": [],
   "source": [
    "from sklearn.model_selection import train_test_split\n",
    "\n",
    "df_train, df_test = train_test_split(df, test_size=0.2,random_state=123)"
   ]
  },
  {
   "cell_type": "code",
   "execution_count": 6,
   "metadata": {
    "ExecuteTime": {
     "end_time": "2021-11-19T20:55:05.923231Z",
     "start_time": "2021-11-19T20:55:05.904242Z"
    }
   },
   "outputs": [],
   "source": [
    "X_train=df_train.drop([\"Ganancias\"],axis=1)\n",
    "y_train=df_train[['Ganancias']]"
   ]
  },
  {
   "cell_type": "code",
   "execution_count": 7,
   "metadata": {
    "ExecuteTime": {
     "end_time": "2021-11-19T20:55:06.372127Z",
     "start_time": "2021-11-19T20:55:06.354129Z"
    }
   },
   "outputs": [],
   "source": [
    "X_test=df_test.drop([\"Ganancias\"],axis=1)\n",
    "y_test=df_test[['Ganancias']]"
   ]
  },
  {
   "cell_type": "code",
   "execution_count": 8,
   "metadata": {
    "ExecuteTime": {
     "end_time": "2021-11-19T20:55:06.902413Z",
     "start_time": "2021-11-19T20:55:06.808026Z"
    }
   },
   "outputs": [],
   "source": [
    "from sklearn import linear_model\n",
    "\n",
    "modelo = linear_model.LinearRegression(fit_intercept=True)  "
   ]
  },
  {
   "cell_type": "code",
   "execution_count": 9,
   "metadata": {
    "ExecuteTime": {
     "end_time": "2021-11-19T20:55:07.371219Z",
     "start_time": "2021-11-19T20:55:07.286768Z"
    }
   },
   "outputs": [
    {
     "data": {
      "text/plain": [
       "LinearRegression()"
      ]
     },
     "execution_count": 9,
     "metadata": {},
     "output_type": "execute_result"
    }
   ],
   "source": [
    "modelo.fit(X_train, y_train)"
   ]
  },
  {
   "cell_type": "code",
   "execution_count": 10,
   "metadata": {
    "ExecuteTime": {
     "end_time": "2021-11-19T20:55:07.891109Z",
     "start_time": "2021-11-19T20:55:07.864123Z"
    }
   },
   "outputs": [
    {
     "name": "stdout",
     "output_type": "stream",
     "text": [
      "EVALUACIÓN del modelo de Regresión Lineal: \n",
      "Coeficiente de Determinación R2:  0.656\n",
      "MSE:  820511858.83\n",
      "RMSE:  28644.578\n"
     ]
    }
   ],
   "source": [
    "from sklearn.metrics import mean_squared_error, r2_score\n",
    "print(\"EVALUACIÓN del modelo de Regresión Lineal: \")\n",
    "print(\"Coeficiente de Determinación R2: \",round(modelo.score(X_test,y_test),3)) # evaluamos el modelo\n",
    "y_pred = modelo.predict(X_test)\n",
    "MSE=mean_squared_error(y_test, y_pred)\n",
    "print(\"MSE: \",round(MSE,3))\n",
    "RMSE=mean_squared_error(y_test, y_pred,squared=False)\n",
    "print(\"RMSE: \",round(RMSE,3))"
   ]
  },
  {
   "cell_type": "code",
   "execution_count": 11,
   "metadata": {
    "ExecuteTime": {
     "end_time": "2021-11-19T20:55:08.958274Z",
     "start_time": "2021-11-19T20:55:08.940285Z"
    }
   },
   "outputs": [
    {
     "data": {
      "text/plain": [
       "108259.99666666662"
      ]
     },
     "execution_count": 11,
     "metadata": {},
     "output_type": "execute_result"
    }
   ],
   "source": [
    "y_promedio=y_train.mean()[0]\n",
    "y_promedio"
   ]
  },
  {
   "cell_type": "code",
   "execution_count": 12,
   "metadata": {
    "ExecuteTime": {
     "end_time": "2021-11-19T20:55:09.444109Z",
     "start_time": "2021-11-19T20:55:09.432116Z"
    }
   },
   "outputs": [
    {
     "name": "stdout",
     "output_type": "stream",
     "text": [
      "El RMSE es el:  26.46  % del valor promedio de los valores del y_train\n"
     ]
    }
   ],
   "source": [
    "porcentaje=RMSE/y_promedio * 100\n",
    "print(\"El RMSE es el: \", round(porcentaje,2), \" % del valor promedio de los valores del y_train\")"
   ]
  },
  {
   "cell_type": "code",
   "execution_count": 13,
   "metadata": {
    "ExecuteTime": {
     "end_time": "2021-11-19T20:55:10.162181Z",
     "start_time": "2021-11-19T20:55:10.150187Z"
    }
   },
   "outputs": [],
   "source": [
    "X=df.drop([\"Ganancias\"],axis=1)\n",
    "y=df.Ganancias"
   ]
  },
  {
   "cell_type": "code",
   "execution_count": null,
   "metadata": {
    "ExecuteTime": {
     "end_time": "2021-11-19T20:55:11.629255Z",
     "start_time": "2021-11-19T20:55:11.620260Z"
    }
   },
   "outputs": [],
   "source": [
    "modelo.fit(X, y)  "
   ]
  },
  {
   "cell_type": "code",
   "execution_count": 15,
   "metadata": {
    "ExecuteTime": {
     "end_time": "2021-11-19T20:55:29.275872Z",
     "start_time": "2021-11-19T20:55:29.262880Z"
    }
   },
   "outputs": [],
   "source": [
    "def programa():\n",
    "    print(\"\"\"PRONOSTICADOR DE VENTAS MENSUALES 2009 PARA LAS SUCURSALES:\n",
    "\n",
    "    - 9 DE JULIO (1)\n",
    "    - ITUZAINGO (2)\n",
    "    - PATIO OLMOS (3)\n",
    "    - VILLA CABRERA (4)\"\"\")\n",
    "\n",
    "    x=True\n",
    "    while x==True:\n",
    "        mes=int(input(\"Ingrese el número de mes correspondiente: \"))\n",
    "        print(\"=================================================\")\n",
    "        if mes < 13 and mes >0:\n",
    "            x=False\n",
    "        else:\n",
    "            print(\"Error, intente nuevamente.\")\n",
    "\n",
    "    x=True\n",
    "    while x==True:\n",
    "        sucursal= int(input(\"Ingrese el número de sucursal correspondiente: \"))\n",
    "        print(\"=================================================\")\n",
    "        if sucursal==1:\n",
    "            de_julio=1\n",
    "            ituzaingo=0\n",
    "            pa_olmos=0\n",
    "            villa_ca=0\n",
    "            x=False\n",
    "        elif sucursal==2:\n",
    "            de_julio=0\n",
    "            ituzaingo=1\n",
    "            pa_olmos=0\n",
    "            villa_ca=0\n",
    "            x=False\n",
    "        elif sucursal==3:\n",
    "            de_julio=0\n",
    "            ituzaingo=0\n",
    "            pa_olmos=1\n",
    "            villa_ca=0\n",
    "            x=False\n",
    "        elif sucursal==4:\n",
    "            de_julio=0\n",
    "            ituzaingo=0\n",
    "            pa_olmos=0\n",
    "            villa_ca=1\n",
    "            x=False\n",
    "        else:\n",
    "            print(\"Error, número ingresado incorrecto\")\n",
    "            print(\"Intente nuevamente\")\n",
    "\n",
    "    datos=[[mes,2009,de_julio,ituzaingo,pa_olmos,villa_ca]]\n",
    "    prediccion=modelo.predict(datos)\n",
    "    prediccion=prediccion.round(decimals=2)\n",
    "    print(\"=================================================\")\n",
    "    print(\"Para el mes \"+ str(mes)+ \" del año 2009 se pronostica vender \" + str(prediccion))"
   ]
  },
  {
   "cell_type": "code",
   "execution_count": 16,
   "metadata": {
    "ExecuteTime": {
     "end_time": "2021-11-19T21:01:04.870919Z",
     "start_time": "2021-11-19T21:00:56.800774Z"
    }
   },
   "outputs": [
    {
     "name": "stdout",
     "output_type": "stream",
     "text": [
      "PRONOSTICADOR DE VENTAS MENSUALES 2009 PARA LAS SUCURSALES:\n",
      "\n",
      "    - 9 DE JULIO (1)\n",
      "    - ITUZAINGO (2)\n",
      "    - PATIO OLMOS (3)\n",
      "    - VILLA CABRERA (4)\n",
      "Ingrese el número de mes correspondiente: 1\n",
      "=================================================\n",
      "Ingrese el número de sucursal correspondiente: 1\n",
      "=================================================\n",
      "=================================================\n",
      "Para el mes 1 del año 2009 se pronostica vender [[145887.24]]\n"
     ]
    }
   ],
   "source": [
    "programa()"
   ]
  },
  {
   "cell_type": "code",
   "execution_count": null,
   "metadata": {},
   "outputs": [],
   "source": []
  }
 ],
 "metadata": {
  "kernelspec": {
   "display_name": "Python 3",
   "language": "python",
   "name": "python3"
  },
  "language_info": {
   "codemirror_mode": {
    "name": "ipython",
    "version": 3
   },
   "file_extension": ".py",
   "mimetype": "text/x-python",
   "name": "python",
   "nbconvert_exporter": "python",
   "pygments_lexer": "ipython3",
   "version": "3.8.5"
  },
  "toc": {
   "base_numbering": 1,
   "nav_menu": {},
   "number_sections": true,
   "sideBar": true,
   "skip_h1_title": false,
   "title_cell": "Table of Contents",
   "title_sidebar": "Contents",
   "toc_cell": false,
   "toc_position": {},
   "toc_section_display": true,
   "toc_window_display": false
  },
  "varInspector": {
   "cols": {
    "lenName": 16,
    "lenType": 16,
    "lenVar": 40
   },
   "kernels_config": {
    "python": {
     "delete_cmd_postfix": "",
     "delete_cmd_prefix": "del ",
     "library": "var_list.py",
     "varRefreshCmd": "print(var_dic_list())"
    },
    "r": {
     "delete_cmd_postfix": ") ",
     "delete_cmd_prefix": "rm(",
     "library": "var_list.r",
     "varRefreshCmd": "cat(var_dic_list()) "
    }
   },
   "types_to_exclude": [
    "module",
    "function",
    "builtin_function_or_method",
    "instance",
    "_Feature"
   ],
   "window_display": false
  }
 },
 "nbformat": 4,
 "nbformat_minor": 5
}
